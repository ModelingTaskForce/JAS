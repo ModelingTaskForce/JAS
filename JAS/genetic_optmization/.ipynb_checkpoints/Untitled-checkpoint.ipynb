{
 "cells": [
  {
   "cell_type": "code",
   "execution_count": 1,
   "metadata": {},
   "outputs": [],
   "source": [
    "import pandas as pd\n",
    "import sir\n",
    "import matplotlib.pyplot as plt"
   ]
  },
  {
   "cell_type": "code",
   "execution_count": 2,
   "metadata": {},
   "outputs": [],
   "source": [
    "data = pd.read_csv(\"https://raw.githubusercontent.com/wcota/covid19br/master/cases-brazil-states.csv\")\n",
    "data.head()\n",
    "data[\"date\"] = pd.to_datetime(data[\"date\"])"
   ]
  },
  {
   "cell_type": "code",
   "execution_count": 3,
   "metadata": {},
   "outputs": [],
   "source": [
    "data = data[data[\"state\"] == \"SP\"]\n",
    "data[\"day\"] = range(1,len(data[\"totalCases\"]) + 1)"
   ]
  },
  {
   "cell_type": "code",
   "execution_count": 5,
   "metadata": {},
   "outputs": [],
   "source": [
    "sir = sir.start(pop = 44639899)"
   ]
  },
  {
   "cell_type": "code",
   "execution_count": null,
   "metadata": {},
   "outputs": [],
   "source": [
    "sir.fit(x = data[\"day\"],\n",
    "        y = data[\"totalCases\"],\n",
    "        ncores = -1,\n",
    "        maxiter = 100,\n",
    "        seed = 17)"
   ]
  },
  {
   "cell_type": "code",
   "execution_count": null,
   "metadata": {},
   "outputs": [],
   "source": [
    "data[\"predicted\"] = sir.predict(time = data[\"day\"])"
   ]
  },
  {
   "cell_type": "code",
   "execution_count": null,
   "metadata": {},
   "outputs": [],
   "source": [
    "_, ax = plt.subplots(nrows = 1, ncols = 1, figsize = [18,12])\n",
    "ax.plot(data[\"date\"], data[\"totalCases\"])\n",
    "ax.plot(data[\"date\"], data[\"predicted\"], \"r--\")"
   ]
  },
  {
   "cell_type": "code",
   "execution_count": null,
   "metadata": {},
   "outputs": [],
   "source": [
    "#_, ax = plt.subplots(nrows = 1, ncols = 1, figsize = [18,12])\n",
    "#ax.plot(data[\"date\"], sir.S, \"g\")\n",
    "#ax.plot(data[\"date\"], sir.I, \"r\")\n",
    "#ax.plot(data[\"date\"], sir.R, \"b\")\n",
    "#plt.axvline(x = data[\"date\"].iloc[int(sir.t1 - 1)], ymin = 0, ymax = 1)"
   ]
  },
  {
   "cell_type": "code",
   "execution_count": null,
   "metadata": {},
   "outputs": [],
   "source": [
    "sir.beta, sir.gamma"
   ]
  },
  {
   "cell_type": "code",
   "execution_count": null,
   "metadata": {},
   "outputs": [],
   "source": [
    "#(0.24943946538764605, 0.19999999999999998)"
   ]
  }
 ],
 "metadata": {
  "kernelspec": {
   "display_name": "Python 3",
   "language": "python",
   "name": "python3"
  },
  "language_info": {
   "codemirror_mode": {
    "name": "ipython",
    "version": 3
   },
   "file_extension": ".py",
   "mimetype": "text/x-python",
   "name": "python",
   "nbconvert_exporter": "python",
   "pygments_lexer": "ipython3",
   "version": "3.7.3"
  }
 },
 "nbformat": 4,
 "nbformat_minor": 4
}
